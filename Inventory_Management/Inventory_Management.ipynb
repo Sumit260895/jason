{
 "cells": [
  {
   "cell_type": "code",
   "execution_count": 36,
   "metadata": {},
   "outputs": [],
   "source": [
    "fd = open(\"Inventoryfile.txt\",\"w\")\n",
    "fd.close()\n"
   ]
  },
  {
   "cell_type": "markdown",
   "metadata": {},
   "source": [
    "# Product Details\n",
    "1. Product ID\n",
    "2. Name of Product\n",
    "3. Price of product\n",
    "4. Quantity"
   ]
  },
  {
   "cell_type": "code",
   "execution_count": 37,
   "metadata": {},
   "outputs": [],
   "source": [
    "fd = open(\"Inventoryfile.txt\",\"r\")\n",
    "products = fd.read().split(\"\\n\")\n",
    "fd.close()"
   ]
  },
  {
   "cell_type": "code",
   "execution_count": 38,
   "metadata": {},
   "outputs": [
    {
     "name": "stdout",
     "output_type": "stream",
     "text": [
      "1,5 Star,5,100\n",
      "2,Milky Bar,5,100\n",
      "3,Cake,300,5\n",
      "4,Candy,1,200\n"
     ]
    }
   ],
   "source": [
    "for i in products:\n",
    "    print(i)"
   ]
  },
  {
   "cell_type": "code",
   "execution_count": 2,
   "metadata": {},
   "outputs": [
    {
     "name": "stdout",
     "output_type": "stream",
     "text": [
      "Enter your name:caeuiciad\n",
      "Enter your phone number:FCHASBF\n",
      "Enter your Mail:HCVJAD\n",
      "Enter product ID: 3\n",
      "Enter product quantity: 5\n",
      "Sorry we dont have enough quantity\n",
      "We're having only 3 quantity\n",
      "Would like to purchase it\n",
      "Press Y/Ny\n",
      "-------------------------\n",
      "Product Name    : Cake\n",
      "Price           : 300\n",
      "Quantity        : 3\n",
      "-------------------------\n",
      "Billing amount  : 900\n",
      "-------------------------\n",
      "inventory updated\n"
     ]
    }
   ],
   "source": [
    "import time \n",
    "\n",
    "\n",
    "fd = open(\"Inventoryfile.txt\",\"r\")\n",
    "products = fd.read().split(\"\\n\")\n",
    "fd.close()\n",
    "\n",
    "#Taking user input \n",
    "ui_username = input(\"Enter your name:\")\n",
    "ui_phone = input(\"Enter your phone number:\")\n",
    "ui_mail = input(\"Enter your Mail:\")\n",
    "ui_prod_ID = input(\"Enter product ID: \")\n",
    "ui_prod_qn = input(\"Enter product quantity: \")\n",
    "updated_Prod_lst = []\n",
    "\n",
    "#Going through each product detail\n",
    "for product in products:\n",
    "    prod_Details = product.split(',')\n",
    "    \n",
    "    if(prod_Details[0] == ui_prod_ID):\n",
    "        #checking product exists or not \n",
    "        \n",
    "        if(int(ui_prod_qn) <= int(prod_Details[3])):\n",
    "            #checking if we've enough quantity or not \n",
    "            \n",
    "            print(\"-------------------------\")\n",
    "            print(\"Product Name    :\", prod_Details[1])\n",
    "            print(\"Price           :\", prod_Details[2])\n",
    "            print(\"Quantity        :\", ui_prod_qn)\n",
    "            print(\"-------------------------\")\n",
    "            print(\"Billing amount  :\",int(ui_prod_qn)*int(prod_Details[2]))\n",
    "            print(\"-------------------------\")\n",
    "            \n",
    "            \n",
    "            #Updating Inventory list\n",
    "            prod_Details[3] = str(int(prod_Details[3])-int(ui_prod_qn))\n",
    "            \n",
    "            #generating Sales Detail in Sales.txt\n",
    "            fd = open(\"Sales.txt\",\"a\")\n",
    "            sales_Detail = ui_username + ','+ ui_phone +','+ ui_mail +','+prod_Details[1]+\",\"+ ui_prod_ID+','+ui_prod_qn+','+str(int(ui_prod_qn)*int(prod_Details[2])) +','+ time.ctime()+'\\n'\n",
    "            fd.write(sales_Detail)\n",
    "            fd.close()\n",
    "            \n",
    "        else:\n",
    "            #if we're not having enough quantity \n",
    "            \n",
    "            print(\"Sorry we dont have enough quantity\")\n",
    "            print(\"We're having only\",prod_Details[3],\"quantity\")\n",
    "            print(\"Would like to purchase it\")\n",
    "            \n",
    "            ch = input(\"Press Y/N\")\n",
    "            if(ch == \"Y\" or ch ==\"y\"):\n",
    "                \n",
    "                \n",
    "                print(\"-------------------------\")\n",
    "                print(\"Product Name    :\", prod_Details[1])\n",
    "                print(\"Price           :\", prod_Details[2])\n",
    "                print(\"Quantity        :\", prod_Details[3])\n",
    "                print(\"-------------------------\")\n",
    "                print(\"Billing amount  :\",int(prod_Details[3])*int(prod_Details[2]))\n",
    "                print(\"-------------------------\")\n",
    "                \n",
    "                \n",
    "                \n",
    "                #Generating Sales in Sales.txt\n",
    "                fd = open(\"Sales.txt\",\"a\")\n",
    "                sales_Detail = ui_username + ','+ ui_phone +','+ ui_mail +','+prod_Details[1]+\",\"+ ui_prod_ID+','+ str(prod_Details[3]) +','+str(int(ui_prod_qn)*int(prod_Details[2])) +','+ time.ctime()+'\\n'\n",
    "                fd.write(sales_Detail)\n",
    "                fd.close()\n",
    "                \n",
    "                #Updating Inventory list\n",
    "                prod_Details[3] = \"0\"\n",
    "                \n",
    "    #updating my inventory list            \n",
    "    updated_Prod_lst.append(prod_Details)\n",
    "lst = []\n",
    "\n",
    "#updating my Inventory string\n",
    "for i in updated_Prod_lst:\n",
    "    prod = i[0] +\",\"+i[1]+\",\"+i[2]+\",\"+i[3]+'\\n'\n",
    "    lst.append(prod)\n",
    "    \n",
    "lst[-1] = lst[-1][:-1]\n",
    "\n",
    "#updating my Inventory file \n",
    "fd = open(\"Inventoryfile.txt\",\"w\")\n",
    "for i in lst:\n",
    "    fd.write(i)\n",
    "fd.close()\n",
    "\n",
    "print(\"inventory updated\")"
   ]
  },
  {
   "cell_type": "code",
   "execution_count": 5,
   "metadata": {},
   "outputs": [],
   "source": [
    "lst = []\n",
    "for i in updated_Prod_lst:\n",
    "    prod = i[0] +\",\"+i[1]+\",\"+i[2]+\",\"+i[3]+'\\n'\n",
    "    lst.append(prod)\n",
    "    \n",
    "lst[-1] = lst[-1][:-1]"
   ]
  },
  {
   "cell_type": "code",
   "execution_count": null,
   "metadata": {},
   "outputs": [],
   "source": []
  }
 ],
 "metadata": {
  "kernelspec": {
   "display_name": "Python 3",
   "language": "python",
   "name": "python3"
  },
  "language_info": {
   "codemirror_mode": {
    "name": "ipython",
    "version": 3
   },
   "file_extension": ".py",
   "mimetype": "text/x-python",
   "name": "python",
   "nbconvert_exporter": "python",
   "pygments_lexer": "ipython3",
   "version": "3.7.6"
  }
 },
 "nbformat": 4,
 "nbformat_minor": 4
}
